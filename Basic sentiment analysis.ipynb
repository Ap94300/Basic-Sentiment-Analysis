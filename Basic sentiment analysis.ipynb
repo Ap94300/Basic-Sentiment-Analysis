{
 "cells": [
  {
   "cell_type": "code",
   "execution_count": 1,
   "metadata": {},
   "outputs": [
    {
     "name": "stdout",
     "output_type": "stream",
     "text": [
      "Requirement already satisfied: textblob in c:\\users\\ayush\\appdata\\local\\programs\\python\\python312\\lib\\site-packages (0.18.0.post0)\n",
      "Requirement already satisfied: nltk>=3.8 in c:\\users\\ayush\\appdata\\local\\programs\\python\\python312\\lib\\site-packages (from textblob) (3.8.1)\n",
      "Requirement already satisfied: click in c:\\users\\ayush\\appdata\\local\\programs\\python\\python312\\lib\\site-packages (from nltk>=3.8->textblob) (8.1.7)\n",
      "Requirement already satisfied: joblib in c:\\users\\ayush\\appdata\\local\\programs\\python\\python312\\lib\\site-packages (from nltk>=3.8->textblob) (1.3.2)\n",
      "Requirement already satisfied: regex>=2021.8.3 in c:\\users\\ayush\\appdata\\local\\programs\\python\\python312\\lib\\site-packages (from nltk>=3.8->textblob) (2023.12.25)\n",
      "Requirement already satisfied: tqdm in c:\\users\\ayush\\appdata\\local\\programs\\python\\python312\\lib\\site-packages (from nltk>=3.8->textblob) (4.66.2)\n",
      "Requirement already satisfied: colorama in c:\\users\\ayush\\appdata\\roaming\\python\\python312\\site-packages (from click->nltk>=3.8->textblob) (0.4.6)\n",
      "Positive comments: 100.00%\n",
      "Negative comments: 0.00%\n",
      "Neutral comments: 0.00%\n"
     ]
    }
   ],
   "source": [
    "!pip install textblob\n",
    "\n",
    "#Importing necessary libraries\n",
    "from textblob import TextBlob\n",
    "\n",
    "#Create a sample dataset of comments\n",
    "comments = [\n",
    "    \"You must have encountered words that mean the same but have different names. The Chinese word “Manhua,” meaning “impromptu sketches,” gave rise to the cognates manga and manhwa. Simply put, they are comics like Marvel and DC, but they are grander and more elaborate. The only difference is the country and its influence; in Japan, it is Manga, and in Korea, it is Manhwa. The cultural impact has resulted in different art and writing styles. Manga’s success in the global market has brought attention to the Manhwa.\"\n",
    "]\n",
    "\n",
    "#Perform Sentiment Analysis using TextBlob\n",
    "def get_sentiment(comment):\n",
    "    analysis = TextBlob(comment)\n",
    "    # Determine if the comment is positive, negative, or neutral based on polarity\n",
    "    if analysis.sentiment.polarity > 0:\n",
    "        return \"positive\"\n",
    "    elif analysis.sentiment.polarity < 0:\n",
    "        return \"negative\"\n",
    "    else:\n",
    "        return \"neutral\"\n",
    "\n",
    "#Analyzing the sentiment of each comment\n",
    "sentiment_results = [get_sentiment(comment) for comment in comments]\n",
    "\n",
    "#Count the occurrences of positive, negative, and neutral comments\n",
    "positive_comments = sentiment_results.count(\"positive\")\n",
    "negative_comments = sentiment_results.count(\"negative\")\n",
    "neutral_comments = sentiment_results.count(\"neutral\")\n",
    "\n",
    "#Calculate the percentages\n",
    "total_comments = len(comments)\n",
    "positive_percentage = (positive_comments / total_comments) * 100\n",
    "negative_percentage = (negative_comments / total_comments) * 100\n",
    "neutral_percentage = (neutral_comments / total_comments) * 100\n",
    "\n",
    "# Display results\n",
    "print(f\"Positive comments: {positive_percentage:.2f}%\")\n",
    "print(f\"Negative comments: {negative_percentage:.2f}%\")\n",
    "print(f\"Neutral comments: {neutral_percentage:.2f}%\")"
   ]
  }
 ],
 "metadata": {
  "kernelspec": {
   "display_name": "Python 3",
   "language": "python",
   "name": "python3"
  },
  "language_info": {
   "codemirror_mode": {
    "name": "ipython",
    "version": 3
   },
   "file_extension": ".py",
   "mimetype": "text/x-python",
   "name": "python",
   "nbconvert_exporter": "python",
   "pygments_lexer": "ipython3",
   "version": "3.12.2"
  }
 },
 "nbformat": 4,
 "nbformat_minor": 2
}
